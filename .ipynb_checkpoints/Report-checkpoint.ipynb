{
 "cells": [
  {
   "cell_type": "markdown",
   "id": "0f7efd2c",
   "metadata": {},
   "source": [
    "# Report"
   ]
  },
  {
   "cell_type": "markdown",
   "id": "474ec7b6",
   "metadata": {},
   "source": [
    "<h2 style=\"color: Maroon;text-align:right\">NAKKA KIRAN KUMAR</h2>\n",
    "<h2 style=\"color: Maroon;text-align:right\">ME20B117</h2>\n"
   ]
  },
  {
   "cell_type": "markdown",
   "id": "f41bf4dc",
   "metadata": {},
   "source": [
    "## Steps followed in Airflow:"
   ]
  },
  {
   "cell_type": "markdown",
   "id": "6693ab13",
   "metadata": {},
   "source": [
    "### Pipeline-1:"
   ]
  },
  {
   "cell_type": "markdown",
   "id": "726b1ec7",
   "metadata": {},
   "source": [
    "* Setting the variables and lists required like url, years list, number of stations data to fetch, required fields list (weather fields).\n",
    "* Created a for loop to iterate over years.\n",
    "* Then for each year url contents are fetched and extracted the csv files links to download them and zip them. "
   ]
  },
  {
   "cell_type": "markdown",
   "id": "bb24d529",
   "metadata": {},
   "source": [
    "### Pipeline-2:"
   ]
  },
  {
   "cell_type": "markdown",
   "id": "40b15846",
   "metadata": {},
   "source": [
    "* Setting the variables and lists required like url, years list, required fields list (weather fields).\n",
    "* Created a for loop to iterate over years.\n",
    "* Unzip the file after checking its validity and processed the csv files to fetch the required data and plotting plots for every month.\n",
    "* Then using the monthly plots, created a gif file.\n",
    "* Then deleted all the files except the gif file."
   ]
  },
  {
   "cell_type": "markdown",
   "id": "15f423c7",
   "metadata": {},
   "source": [
    "### Additional things:"
   ]
  },
  {
   "cell_type": "markdown",
   "id": "5932e356",
   "metadata": {},
   "source": [
    "* To add additional library dependancies, like matplotlib library and etc., other libraries, I extended the docker image.\n",
    "* I had run the pipelines over fewer stations and for one year only. My system is getting too hot and hanging for processing more years and stations.\n",
    "* If code works for few stations, it should also work for many too!"
   ]
  },
  {
   "cell_type": "markdown",
   "id": "3cf79ac1",
   "metadata": {},
   "source": [
    "### I have attached a GIF file with period showing MM-YYYY."
   ]
  }
 ],
 "metadata": {
  "kernelspec": {
   "display_name": "Python 3 (ipykernel)",
   "language": "python",
   "name": "python3"
  },
  "language_info": {
   "codemirror_mode": {
    "name": "ipython",
    "version": 3
   },
   "file_extension": ".py",
   "mimetype": "text/x-python",
   "name": "python",
   "nbconvert_exporter": "python",
   "pygments_lexer": "ipython3",
   "version": "3.9.13"
  }
 },
 "nbformat": 4,
 "nbformat_minor": 5
}
