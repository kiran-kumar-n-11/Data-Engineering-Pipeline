{
 "cells": [
  {
   "cell_type": "markdown",
   "id": "6267c673",
   "metadata": {},
   "source": [
    "# Report"
   ]
  },
  {
   "cell_type": "markdown",
   "id": "7b05d7e7",
   "metadata": {},
   "source": [
    "<h2 style=\"color: Maroon;text-align:right\">NAKKA KIRAN KUMAR</h2>\n",
    "<h2 style=\"color: Maroon;text-align:right\">ME20B117</h2>\n"
   ]
  },
  {
   "cell_type": "markdown",
   "id": "b163be56",
   "metadata": {},
   "source": [
    "## Steps followed in Airflow:"
   ]
  },
  {
   "cell_type": "markdown",
   "id": "6c2516e9",
   "metadata": {},
   "source": [
    "### Pipeline-1:"
   ]
  },
  {
   "cell_type": "markdown",
   "id": "6f8b05fa",
   "metadata": {},
   "source": [
    "* Setting the variables and lists required like url, years list, number of stations data to fetch, required fields list (weather fields).\n",
    "* Created a for loop to iterate over years.\n",
    "* Then for each year url contents are fetched and extracted the csv files links to download them and zip them. "
   ]
  },
  {
   "cell_type": "markdown",
   "id": "414175e1",
   "metadata": {},
   "source": [
    "### Pipeline-2:"
   ]
  },
  {
   "cell_type": "markdown",
   "id": "466ad752",
   "metadata": {},
   "source": [
    "* Setting the variables and lists required like url, years list, required fields list (weather fields).\n",
    "* Created a for loop to iterate over years.\n",
    "* Unzip the file after checking its validity and processed the csv files to fetch the required data and plotting plots for every month.\n",
    "* Then using the monthly plots, created a gif file.\n",
    "* Then deleted all the files except the gif file."
   ]
  },
  {
   "cell_type": "markdown",
   "id": "5b04c507",
   "metadata": {},
   "source": [
    "### Additional things:"
   ]
  },
  {
   "cell_type": "markdown",
   "id": "26365d48",
   "metadata": {},
   "source": [
    "* To add additional library dependancies, like matplotlib library and etc., other libraries, I extended the docker image.\n",
    "* I had run the pipelines over fewer stations and for one year only. My system is getting too hot and hanging for processing more years and stations.\n",
    "* If code works for few stations, it should also work for many too!"
   ]
  },
  {
   "cell_type": "markdown",
   "id": "9a249885",
   "metadata": {},
   "source": [
    "### I have attached a GIF file with period showing MM-YYYY."
   ]
  }
 ],
 "metadata": {
  "kernelspec": {
   "display_name": "Python 3 (ipykernel)",
   "language": "python",
   "name": "python3"
  },
  "language_info": {
   "codemirror_mode": {
    "name": "ipython",
    "version": 3
   },
   "file_extension": ".py",
   "mimetype": "text/x-python",
   "name": "python",
   "nbconvert_exporter": "python",
   "pygments_lexer": "ipython3",
   "version": "3.9.13"
  }
 },
 "nbformat": 4,
 "nbformat_minor": 5
}
